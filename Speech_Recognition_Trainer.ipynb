{
  "nbformat": 4,
  "nbformat_minor": 0,
  "metadata": {
    "colab": {
      "name": "Speech_Recognition_Trainer.ipynb",
      "provenance": [],
      "collapsed_sections": [],
      "toc_visible": true
    },
    "kernelspec": {
      "name": "python3",
      "display_name": "Python 3"
    },
    "accelerator": "GPU"
  },
  "cells": [
    {
      "cell_type": "code",
      "metadata": {
        "id": "xVZUbcw7DNbT"
      },
      "source": [
        "import numpy as np\r\n",
        "import pandas as pd\r\n",
        "import torch\r\n",
        "import torch.nn as nn\r\n",
        "import os\r\n",
        "import matplotlib.pyplot as plt\r\n",
        "from sklearn import preprocessing as prep\r\n",
        "import skimage.io\r\n",
        "import pickle\r\n",
        "from glob import glob\r\n",
        "import pathlib\r\n",
        "import seaborn as sns\r\n",
        "import zipfile\r\n",
        "import tensorflow as tf\r\n",
        "from tensorflow.keras.layers.experimental import preprocessing\r\n",
        "from tensorflow.keras import layers\r\n",
        "from tensorflow.keras import models\r\n",
        "from IPython import display\r\n",
        "import warnings\r\n",
        "warnings.filterwarnings(\"ignore\")\r\n",
        "\r\n",
        "\r\n",
        "# Set seed for experiment reproducibility\r\n",
        "seed = 42\r\n",
        "tf.random.set_seed(seed)\r\n",
        "np.random.seed(seed)"
      ],
      "execution_count": 2,
      "outputs": []
    },
    {
      "cell_type": "code",
      "metadata": {
        "colab": {
          "base_uri": "https://localhost:8080/"
        },
        "id": "HH5if2heDUlH",
        "outputId": "a523ecb1-1a7d-4356-9a98-04e9735b1d3d"
      },
      "source": [
        "from tensorflow.python.client import device_lib\r\n",
        "print(device_lib.list_local_devices())"
      ],
      "execution_count": 4,
      "outputs": [
        {
          "output_type": "stream",
          "text": [
            "[name: \"/device:CPU:0\"\n",
            "device_type: \"CPU\"\n",
            "memory_limit: 268435456\n",
            "locality {\n",
            "}\n",
            "incarnation: 1788199115146012509\n",
            ", name: \"/device:GPU:0\"\n",
            "device_type: \"GPU\"\n",
            "memory_limit: 13812936256\n",
            "locality {\n",
            "  bus_id: 1\n",
            "  links {\n",
            "  }\n",
            "}\n",
            "incarnation: 16906434475743785864\n",
            "physical_device_desc: \"device: 0, name: Tesla T4, pci bus id: 0000:00:04.0, compute capability: 7.5\"\n",
            "]\n"
          ],
          "name": "stdout"
        }
      ]
    },
    {
      "cell_type": "code",
      "metadata": {
        "colab": {
          "base_uri": "https://localhost:8080/"
        },
        "id": "wvEXTDVKuOdx",
        "outputId": "1afb5648-19cc-4e42-e650-6680653bba93"
      },
      "source": [
        "tf.device('cuda')"
      ],
      "execution_count": 5,
      "outputs": [
        {
          "output_type": "execute_result",
          "data": {
            "text/plain": [
              "<tensorflow.python.eager.context._EagerDeviceContext at 0x7f932ee41888>"
            ]
          },
          "metadata": {
            "tags": []
          },
          "execution_count": 5
        }
      ]
    },
    {
      "cell_type": "code",
      "metadata": {
        "colab": {
          "base_uri": "https://localhost:8080/"
        },
        "id": "Mjgh5ZlIEdBd",
        "outputId": "8b529632-b620-439c-860a-12f202cf6ffa"
      },
      "source": [
        "from google.colab import drive\n",
        "drive.mount('/content/drive')"
      ],
      "execution_count": 6,
      "outputs": [
        {
          "output_type": "stream",
          "text": [
            "Mounted at /content/drive\n"
          ],
          "name": "stdout"
        }
      ]
    },
    {
      "cell_type": "code",
      "metadata": {
        "id": "yS5nyiXZq-6M"
      },
      "source": [
        "labels = np.array(['activate lamp none', 'activate lights bedroom', 'activate lights kitchen',\r\n",
        " 'activate lights none', 'activate lights washroom', 'activate music none',\r\n",
        " 'bring juice none', 'bring newspaper none', 'bring shoes none',\r\n",
        " 'bring socks none', 'change language Chinese none',\r\n",
        " 'change language English none', 'change language German none',\r\n",
        " 'change language Korean none', 'change language none none',\r\n",
        " 'deactivate lamp none', 'deactivate lights bedroom',\r\n",
        " 'deactivate lights kitchen', 'deactivate lights none',\r\n",
        " 'deactivate lights washroom', 'deactivate music none',\r\n",
        " 'decrease heat bedroom', 'decrease heat kitchen', 'decrease heat none',\r\n",
        " 'decrease heat washroom', 'decrease volume none', 'increase heat bedroom',\r\n",
        " 'increase heat kitchen', 'increase heat none', 'increase heat washroom',\r\n",
        " 'increase volume none'])\r\n",
        "#print(labels)"
      ],
      "execution_count": 7,
      "outputs": []
    },
    {
      "cell_type": "markdown",
      "metadata": {
        "id": "xhZjU21Im0fB"
      },
      "source": [
        "#####Execute the following cell if a zip file is used to store preprocessed dataset"
      ]
    },
    {
      "cell_type": "code",
      "metadata": {
        "id": "tbMwBE4tZfvq"
      },
      "source": [
        "root_path = '/content'\r\n",
        "with zipfile.ZipFile('/content/4_sec-20201218T213704Z-001.zip', 'r') as zip_ref:\r\n",
        "    zip_ref.extractall(root_path)\r\n",
        "os.chdir(root_path+'/4_sec')"
      ],
      "execution_count": 30,
      "outputs": []
    },
    {
      "cell_type": "markdown",
      "metadata": {
        "id": "TyMNJWrGmj8L"
      },
      "source": [
        "#####Execute the following cell if preprocess data is copied directed from Google Drive"
      ]
    },
    {
      "cell_type": "code",
      "metadata": {
        "id": "87gsNlSuJ1_s"
      },
      "source": [
        "os.chdir(root_path+'/4_sec')\r\n",
        "#%cp -av '/content/drive/MyDrive/fluent_speech_commands_dataset/4_sec/' '/content'"
      ],
      "execution_count": 32,
      "outputs": []
    },
    {
      "cell_type": "code",
      "metadata": {
        "id": "zi18uOhob2qh",
        "colab": {
          "base_uri": "https://localhost:8080/"
        },
        "outputId": "5a206e66-e670-4ee6-c50d-d731aa33ae23"
      },
      "source": [
        "input_shape = (624, 257, 3)\r\n",
        "print('Input shape:', input_shape)\r\n",
        "num_labels = labels.shape[0]\r\n",
        "print(num_labels)\r\n",
        "nrow = input_shape[0]\r\n",
        "ncol = input_shape[1]\r\n",
        "print(nrow)\r\n",
        "print(ncol)"
      ],
      "execution_count": 33,
      "outputs": [
        {
          "output_type": "stream",
          "text": [
            "Input shape: (624, 257, 3)\n",
            "31\n",
            "624\n",
            "257\n"
          ],
          "name": "stdout"
        }
      ]
    },
    {
      "cell_type": "code",
      "metadata": {
        "id": "sx9gt_l-G61J"
      },
      "source": [
        "#train_ds = tf.keras.preprocessing.image_dataset_from_directory('./train',labels=\"inferred\")"
      ],
      "execution_count": null,
      "outputs": []
    },
    {
      "cell_type": "code",
      "metadata": {
        "id": "CWnpnsoQusmc",
        "colab": {
          "base_uri": "https://localhost:8080/"
        },
        "outputId": "0b72b456-8a87-47f3-ef1c-253fe658858b"
      },
      "source": [
        "\r\n",
        "from tensorflow.keras.preprocessing.image import ImageDataGenerator\r\n",
        "batch_size = 50\r\n",
        "train_data_dir = './train'\r\n",
        "train_datagen = ImageDataGenerator(rescale=1./255,\r\n",
        "                                   zoom_range=0.0,\r\n",
        "                                   horizontal_flip=False)\r\n",
        "train_generator = train_datagen.flow_from_directory(\r\n",
        "                        train_data_dir,\r\n",
        "                        target_size=(nrow,ncol),\r\n",
        "                        batch_size=batch_size,\r\n",
        "                        classes=labels.tolist(),\r\n",
        "                        class_mode= 'sparse')"
      ],
      "execution_count": 34,
      "outputs": [
        {
          "output_type": "stream",
          "text": [
            "Found 22751 images belonging to 31 classes.\n"
          ],
          "name": "stdout"
        }
      ]
    },
    {
      "cell_type": "code",
      "metadata": {
        "id": "W86E9x8qb2Zi",
        "colab": {
          "base_uri": "https://localhost:8080/"
        },
        "outputId": "dc7743d9-a521-4167-be2b-eb0ae90ac1ea"
      },
      "source": [
        "test_data_dir = './test'\r\n",
        "test_datagen = ImageDataGenerator(rescale=1./255,\r\n",
        "                                   zoom_range=0.0,\r\n",
        "                                   horizontal_flip=False)\r\n",
        "test_generator = test_datagen.flow_from_directory(\r\n",
        "                        test_data_dir,\r\n",
        "                        target_size=(nrow,ncol),\r\n",
        "                        batch_size=batch_size,\r\n",
        "                        classes=labels.tolist(),\r\n",
        "                        class_mode='sparse')"
      ],
      "execution_count": 35,
      "outputs": [
        {
          "output_type": "stream",
          "text": [
            "Found 3743 images belonging to 31 classes.\n"
          ],
          "name": "stdout"
        }
      ]
    },
    {
      "cell_type": "code",
      "metadata": {
        "id": "roUlSZdpCneX",
        "colab": {
          "base_uri": "https://localhost:8080/"
        },
        "outputId": "13a4d3fe-9d3f-4c39-f91a-7d51523ef792"
      },
      "source": [
        "val_data_dir = './val'\r\n",
        "val_datagen = ImageDataGenerator(rescale=1./255,\r\n",
        "                                   zoom_range=0.0,\r\n",
        "                                   horizontal_flip=False)\r\n",
        "val_generator = val_datagen.flow_from_directory(\r\n",
        "                        val_data_dir,\r\n",
        "                        target_size=(nrow,ncol),\r\n",
        "                        batch_size=batch_size,\r\n",
        "                        classes=labels.tolist(),\r\n",
        "                        class_mode='sparse')"
      ],
      "execution_count": 36,
      "outputs": [
        {
          "output_type": "stream",
          "text": [
            "Found 3094 images belonging to 31 classes.\n"
          ],
          "name": "stdout"
        }
      ]
    },
    {
      "cell_type": "code",
      "metadata": {
        "id": "SM0uDrW1wI1A",
        "colab": {
          "base_uri": "https://localhost:8080/",
          "height": 86
        },
        "outputId": "8b1d9b6c-8db5-44c2-fdf4-c1226fce6ea7"
      },
      "source": [
        "'''\r\n",
        "# Load dataset\r\n",
        "train_ds = keras.preprocessing.image_dataset_from_directory('Data/train',labels=\"inferred\")\r\n",
        "val_ds = keras.preprocessing.image_dataset_from_directory('Data/test',labels=\"inferred\")\r\n",
        "\r\n",
        "# Standardize data (optional)\r\n",
        "from tensorflow.keras import layers\r\n",
        "normalization_layer = keras.layers.experimental.preprocessing.Rescaling(1./255)\r\n",
        "train_ds = train_ds.map(lambda x, y: (normalization_layer(x), y))\r\n",
        "val_ds = val_ds.map(lambda x, y: (normalization_layer(x), y))\r\n",
        "\r\n",
        "# Cache to RAM (optional)\r\n",
        "from tensorflow import data\r\n",
        "AUTOTUNE = data.experimental.AUTOTUNE\r\n",
        "train_ds = train_ds.cache().prefetch(buffer_size=AUTOTUNE)\r\n",
        "val_ds = val_ds.cache().prefetch(buffer_size=AUTOTUNE)\r\n",
        "\r\n",
        "# Train\r\n",
        "model.fit(train_ds, validation_data=val_ds, epochs=3)\r\n",
        "'''"
      ],
      "execution_count": null,
      "outputs": [
        {
          "output_type": "execute_result",
          "data": {
            "application/vnd.google.colaboratory.intrinsic+json": {
              "type": "string"
            },
            "text/plain": [
              "'\\n# Load dataset\\ntrain_ds = keras.preprocessing.image_dataset_from_directory(\\'Data/train\\',labels=\"inferred\")\\nval_ds = keras.preprocessing.image_dataset_from_directory(\\'Data/test\\',labels=\"inferred\")\\n\\n# Standardize data (optional)\\nfrom tensorflow.keras import layers\\nnormalization_layer = keras.layers.experimental.preprocessing.Rescaling(1./255)\\ntrain_ds = train_ds.map(lambda x, y: (normalization_layer(x), y))\\nval_ds = val_ds.map(lambda x, y: (normalization_layer(x), y))\\n\\n# Cache to RAM (optional)\\nfrom tensorflow import data\\nAUTOTUNE = data.experimental.AUTOTUNE\\ntrain_ds = train_ds.cache().prefetch(buffer_size=AUTOTUNE)\\nval_ds = val_ds.cache().prefetch(buffer_size=AUTOTUNE)\\n\\n# Train\\nmodel.fit(train_ds, validation_data=val_ds, epochs=3)\\n'"
            ]
          },
          "metadata": {
            "tags": []
          },
          "execution_count": 12
        }
      ]
    },
    {
      "cell_type": "code",
      "metadata": {
        "id": "dwAjNVdab3Zk"
      },
      "source": [
        "from tensorflow.keras import applications\r\n",
        "from tensorflow.keras import optimizers\r\n",
        "from tensorflow.keras.models import Sequential\r\n",
        "from tensorflow.keras.layers import Dropout, Flatten, Dense,Conv2D, MaxPooling2D, Input, BatchNormalization"
      ],
      "execution_count": 37,
      "outputs": []
    },
    {
      "cell_type": "code",
      "metadata": {
        "id": "b8In9ytUb32Y"
      },
      "source": [
        "import tensorflow.keras.backend as K\r\n",
        "K.clear_session()"
      ],
      "execution_count": 38,
      "outputs": []
    },
    {
      "cell_type": "code",
      "metadata": {
        "id": "yIJG7S8i1Poz",
        "colab": {
          "base_uri": "https://localhost:8080/"
        },
        "outputId": "500b47e2-cdf6-43a9-86de-7f6656e0e514"
      },
      "source": [
        "from tensorflow.keras.applications.vgg19 import VGG19\r\n",
        "from tensorflow.keras.applications.vgg19 import decode_predictions, preprocess_input  \r\n",
        "base_model = applications.VGG19(include_top=False, weights='imagenet', input_shape = input_shape)"
      ],
      "execution_count": 39,
      "outputs": [
        {
          "output_type": "stream",
          "text": [
            "Downloading data from https://storage.googleapis.com/tensorflow/keras-applications/vgg19/vgg19_weights_tf_dim_ordering_tf_kernels_notop.h5\n",
            "80142336/80134624 [==============================] - 0s 0us/step\n"
          ],
          "name": "stdout"
        }
      ]
    },
    {
      "cell_type": "code",
      "metadata": {
        "id": "MlcetAJn1P4z"
      },
      "source": [
        "model = Sequential()\r\n",
        "use_base_model = True #If false, model may have to be adjusted to account for image size."
      ],
      "execution_count": 40,
      "outputs": []
    },
    {
      "cell_type": "code",
      "metadata": {
        "id": "YTXm-hiJ5zWA"
      },
      "source": [
        "#Loop over base_model.layers and add each layer to model\r\n",
        "if use_base_model:\r\n",
        "  for layer in base_model.layers:\r\n",
        "    model.add(layer)\r\n",
        "\r\n",
        "  for layer in model.layers:\r\n",
        "    layer.trainable = False\r\n",
        "  model.add(BatchNormalization())\r\n",
        "else:\r\n",
        "  model.add(Input(shape=input_shape))\r\n",
        "  model.add(Resizing(128, 128))"
      ],
      "execution_count": 41,
      "outputs": []
    },
    {
      "cell_type": "code",
      "metadata": {
        "id": "Tw5hMMt01Qmv"
      },
      "source": [
        "model.add(Conv2D(256, 3, activation='relu'))\r\n",
        "model.add(Conv2D(128, 3, activation='relu'))\r\n",
        "model.add(MaxPooling2D())\r\n",
        "model.add(BatchNormalization())\r\n",
        "model.add(Flatten())\r\n",
        "model.add(Dense(256, activation = 'relu'))\r\n",
        "model.add(Dropout(0.5))\r\n",
        "model.add(Dense(num_labels))\r\n"
      ],
      "execution_count": 42,
      "outputs": []
    },
    {
      "cell_type": "code",
      "metadata": {
        "id": "YK4QwZl7xJTJ"
      },
      "source": [
        "#model.get_layer('block5_conv2').trainable=True\r\n",
        "#model.get_layer('block5_conv3').trainable=True\r\n",
        "model.get_layer('block5_conv4').trainable=True"
      ],
      "execution_count": 49,
      "outputs": []
    },
    {
      "cell_type": "code",
      "metadata": {
        "id": "Mhv1lnM-1Ry_",
        "colab": {
          "base_uri": "https://localhost:8080/"
        },
        "outputId": "e2019a39-e178-4699-e3e1-342393295bdf"
      },
      "source": [
        "model.summary()"
      ],
      "execution_count": 50,
      "outputs": [
        {
          "output_type": "stream",
          "text": [
            "Model: \"sequential\"\n",
            "_________________________________________________________________\n",
            "Layer (type)                 Output Shape              Param #   \n",
            "=================================================================\n",
            "block1_conv1 (Conv2D)        (None, 624, 257, 64)      1792      \n",
            "_________________________________________________________________\n",
            "block1_conv2 (Conv2D)        (None, 624, 257, 64)      36928     \n",
            "_________________________________________________________________\n",
            "block1_pool (MaxPooling2D)   (None, 312, 128, 64)      0         \n",
            "_________________________________________________________________\n",
            "block2_conv1 (Conv2D)        (None, 312, 128, 128)     73856     \n",
            "_________________________________________________________________\n",
            "block2_conv2 (Conv2D)        (None, 312, 128, 128)     147584    \n",
            "_________________________________________________________________\n",
            "block2_pool (MaxPooling2D)   (None, 156, 64, 128)      0         \n",
            "_________________________________________________________________\n",
            "block3_conv1 (Conv2D)        (None, 156, 64, 256)      295168    \n",
            "_________________________________________________________________\n",
            "block3_conv2 (Conv2D)        (None, 156, 64, 256)      590080    \n",
            "_________________________________________________________________\n",
            "block3_conv3 (Conv2D)        (None, 156, 64, 256)      590080    \n",
            "_________________________________________________________________\n",
            "block3_conv4 (Conv2D)        (None, 156, 64, 256)      590080    \n",
            "_________________________________________________________________\n",
            "block3_pool (MaxPooling2D)   (None, 78, 32, 256)       0         \n",
            "_________________________________________________________________\n",
            "block4_conv1 (Conv2D)        (None, 78, 32, 512)       1180160   \n",
            "_________________________________________________________________\n",
            "block4_conv2 (Conv2D)        (None, 78, 32, 512)       2359808   \n",
            "_________________________________________________________________\n",
            "block4_conv3 (Conv2D)        (None, 78, 32, 512)       2359808   \n",
            "_________________________________________________________________\n",
            "block4_conv4 (Conv2D)        (None, 78, 32, 512)       2359808   \n",
            "_________________________________________________________________\n",
            "block4_pool (MaxPooling2D)   (None, 39, 16, 512)       0         \n",
            "_________________________________________________________________\n",
            "block5_conv1 (Conv2D)        (None, 39, 16, 512)       2359808   \n",
            "_________________________________________________________________\n",
            "block5_conv2 (Conv2D)        (None, 39, 16, 512)       2359808   \n",
            "_________________________________________________________________\n",
            "block5_conv3 (Conv2D)        (None, 39, 16, 512)       2359808   \n",
            "_________________________________________________________________\n",
            "block5_conv4 (Conv2D)        (None, 39, 16, 512)       2359808   \n",
            "_________________________________________________________________\n",
            "block5_pool (MaxPooling2D)   (None, 19, 8, 512)        0         \n",
            "_________________________________________________________________\n",
            "batch_normalization (BatchNo (None, 19, 8, 512)        2048      \n",
            "_________________________________________________________________\n",
            "conv2d (Conv2D)              (None, 17, 6, 256)        1179904   \n",
            "_________________________________________________________________\n",
            "conv2d_1 (Conv2D)            (None, 15, 4, 128)        295040    \n",
            "_________________________________________________________________\n",
            "max_pooling2d (MaxPooling2D) (None, 7, 2, 128)         0         \n",
            "_________________________________________________________________\n",
            "batch_normalization_1 (Batch (None, 7, 2, 128)         512       \n",
            "_________________________________________________________________\n",
            "flatten (Flatten)            (None, 1792)              0         \n",
            "_________________________________________________________________\n",
            "dense (Dense)                (None, 256)               459008    \n",
            "_________________________________________________________________\n",
            "dropout (Dropout)            (None, 256)               0         \n",
            "_________________________________________________________________\n",
            "dense_1 (Dense)              (None, 31)                7967      \n",
            "=================================================================\n",
            "Total params: 21,968,863\n",
            "Trainable params: 4,303,007\n",
            "Non-trainable params: 17,665,856\n",
            "_________________________________________________________________\n"
          ],
          "name": "stdout"
        }
      ]
    },
    {
      "cell_type": "code",
      "metadata": {
        "id": "kwgoYB9H5aTg"
      },
      "source": [
        "model.compile(\r\n",
        "    optimizer=tf.keras.optimizers.Adam(),\r\n",
        "    loss=tf.keras.losses.SparseCategoricalCrossentropy(from_logits=True),\r\n",
        "    metrics=['accuracy'],\r\n",
        ")"
      ],
      "execution_count": 44,
      "outputs": []
    },
    {
      "cell_type": "code",
      "metadata": {
        "id": "AbhmJ6BoFrwr",
        "colab": {
          "base_uri": "https://localhost:8080/"
        },
        "outputId": "0129892e-48d2-4435-9f84-eb0732719e8e"
      },
      "source": [
        "steps_per_epoch = len(train_generator.filepaths)//batch_size\r\n",
        "validation_steps = len(val_generator.filepaths)//batch_size\r\n",
        "print(f'Steps per epoch = {steps_per_epoch}')\r\n",
        "print(f'Validadtion Steps = {validation_steps}')"
      ],
      "execution_count": 45,
      "outputs": [
        {
          "output_type": "stream",
          "text": [
            "Steps per epoch = 455\n",
            "Validadtion Steps = 61\n"
          ],
          "name": "stdout"
        }
      ]
    },
    {
      "cell_type": "code",
      "metadata": {
        "id": "Rmx2gjPH5ajg",
        "colab": {
          "base_uri": "https://localhost:8080/"
        },
        "outputId": "71454130-16cc-4d24-a9a1-98bbaf332d2f"
      },
      "source": [
        "EPOCHS = 10\r\n",
        "history = model.fit(\r\n",
        "    train_generator, \r\n",
        "    validation_data=val_generator,  \r\n",
        "    validation_steps=validation_steps,\r\n",
        "    steps_per_epoch=steps_per_epoch,\r\n",
        "    epochs=EPOCHS,\r\n",
        "    #callbacks=tf.keras.callbacks.EarlyStopping(verbose=1, patience=2)\r\n",
        ")"
      ],
      "execution_count": 47,
      "outputs": [
        {
          "output_type": "stream",
          "text": [
            "Epoch 1/10\n",
            "455/455 [==============================] - 443s 974ms/step - loss: 1.6225 - accuracy: 0.4293 - val_loss: 2.1310 - val_accuracy: 0.3518\n",
            "Epoch 2/10\n",
            "455/455 [==============================] - 442s 972ms/step - loss: 1.5180 - accuracy: 0.4676 - val_loss: 2.1075 - val_accuracy: 0.3705\n",
            "Epoch 3/10\n",
            "455/455 [==============================] - 442s 972ms/step - loss: 1.4008 - accuracy: 0.5003 - val_loss: 2.0763 - val_accuracy: 0.3793\n",
            "Epoch 4/10\n",
            "455/455 [==============================] - 443s 973ms/step - loss: 1.3369 - accuracy: 0.5238 - val_loss: 1.9038 - val_accuracy: 0.4331\n",
            "Epoch 5/10\n",
            "455/455 [==============================] - 443s 973ms/step - loss: 1.3262 - accuracy: 0.5329 - val_loss: 2.9095 - val_accuracy: 0.3046\n",
            "Epoch 6/10\n",
            "455/455 [==============================] - 443s 972ms/step - loss: 1.3637 - accuracy: 0.5229 - val_loss: 2.3239 - val_accuracy: 0.3830\n",
            "Epoch 7/10\n",
            "455/455 [==============================] - 442s 972ms/step - loss: 1.1893 - accuracy: 0.5731 - val_loss: 2.0373 - val_accuracy: 0.4492\n",
            "Epoch 8/10\n",
            "455/455 [==============================] - 443s 973ms/step - loss: 1.1070 - accuracy: 0.6050 - val_loss: 1.9495 - val_accuracy: 0.4446\n",
            "Epoch 9/10\n",
            "455/455 [==============================] - 443s 973ms/step - loss: 1.0351 - accuracy: 0.6266 - val_loss: 2.0262 - val_accuracy: 0.4449\n",
            "Epoch 10/10\n",
            "455/455 [==============================] - 443s 973ms/step - loss: 0.9975 - accuracy: 0.6453 - val_loss: 2.1305 - val_accuracy: 0.4230\n"
          ],
          "name": "stdout"
        }
      ]
    },
    {
      "cell_type": "code",
      "metadata": {
        "colab": {
          "base_uri": "https://localhost:8080/"
        },
        "id": "tX0-zsDpnCgH",
        "outputId": "ae415a65-5240-4460-9426-fb7ee87ae473"
      },
      "source": [
        "model.save('/content/drive/MyDrive/fluent_speech_commands_dataset/model')"
      ],
      "execution_count": 48,
      "outputs": [
        {
          "output_type": "stream",
          "text": [
            "INFO:tensorflow:Assets written to: /content/drive/MyDrive/fluent_speech_commands_dataset/model/assets\n"
          ],
          "name": "stdout"
        }
      ]
    },
    {
      "cell_type": "code",
      "metadata": {
        "id": "GwSlRt-B5a0S",
        "colab": {
          "base_uri": "https://localhost:8080/",
          "height": 269
        },
        "outputId": "a39e5ce7-bbac-4a2a-e22d-6bfaa31e3fce"
      },
      "source": [
        "metrics = history.history\r\n",
        "plt.plot(history.epoch, metrics['loss'], metrics['val_loss'])\r\n",
        "plt.legend(['loss', 'val_loss'])\r\n",
        "plt.show()"
      ],
      "execution_count": 51,
      "outputs": [
        {
          "output_type": "display_data",
          "data": {
            "image/png": "[encoded data removed]",
            "text/plain": [
              "<Figure size 432x288 with 1 Axes>"
            ]
          },
          "metadata": {
            "tags": [],
            "needs_background": "light"
          }
        }
      ]
    },
    {
      "cell_type": "code",
      "metadata": {
        "id": "_Fk15aAm5bDi"
      },
      "source": [
        ""
      ],
      "execution_count": null,
      "outputs": []
    },
    {
      "cell_type": "code",
      "metadata": {
        "id": "NyZs19ge5bS0"
      },
      "source": [
        ""
      ],
      "execution_count": null,
      "outputs": []
    }
  ]
}